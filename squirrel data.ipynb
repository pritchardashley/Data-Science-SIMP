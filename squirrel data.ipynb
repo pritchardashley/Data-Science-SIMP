{
 "cells": [
  {
   "cell_type": "code",
   "execution_count": null,
   "id": "76a4ddd8-970c-43d8-855b-7c6e1f15f924",
   "metadata": {},
   "outputs": [],
   "source": [
    "import numpy as np\n",
    "import pandas as pd\n",
    "import matplotlib.pyplot as plt\n",
    "import seaborn as sns"
   ]
  },
  {
   "cell_type": "code",
   "execution_count": null,
   "id": "4b45086a-936c-44dc-9af8-8511054452eb",
   "metadata": {},
   "outputs": [],
   "source": [
    "nyc_squirrels=pd.read_csv('2018_Central_Park_Squirrel_Census_-_Squirrel_Data_20250304.csv')"
   ]
  },
  {
   "cell_type": "code",
   "execution_count": null,
   "id": "fbeeba75-b442-440e-8156-c47174ac137b",
   "metadata": {},
   "outputs": [],
   "source": [
    "nyc_squirrels.head()\n"
   ]
  },
  {
   "cell_type": "code",
   "execution_count": null,
   "id": "50a082c5-ade0-4818-bf79-b0a53a582a30",
   "metadata": {},
   "outputs": [],
   "source": [
    "nyc_squirrels.info()"
   ]
  },
  {
   "cell_type": "code",
   "execution_count": null,
   "id": "fac73bf5-c3c7-4ad8-9b32-722f2d01ccea",
   "metadata": {},
   "outputs": [],
   "source": [
    "hectare = pd.read_csv('2018_Central_Park_Squirrel_Census_-_Hectare_Grid_20250304.csv')"
   ]
  },
  {
   "cell_type": "code",
   "execution_count": null,
   "id": "59090a7e-a97c-426c-bd7b-2e70c35e8402",
   "metadata": {},
   "outputs": [],
   "source": [
    "hectare.head()"
   ]
  },
  {
   "cell_type": "code",
   "execution_count": null,
   "id": "307c1748-d34b-47dd-bc4e-8117fd51db21",
   "metadata": {},
   "outputs": [],
   "source": [
    "#missingness\n",
    "plt.figure(figsize=(8,6))\n",
    "sns.heatmap(nyc_squirrels.isnull(), cbar=False, cmap='viridis')\n",
    "plt.title('Missing Values Heatmap')\n",
    "plt.savefig('Missing Squirrel Data', dpi=300)\n",
    "plt.show()"
   ]
  },
  {
   "cell_type": "code",
   "execution_count": null,
   "id": "6b7cc8ba-e64b-4168-98a3-1be8f2705869",
   "metadata": {},
   "outputs": [],
   "source": [
    "#adding a new cell to test branch"
   ]
  },
  {
   "cell_type": "markdown",
   "id": "551bd512-864e-4561-8641-f458c8c0bb23",
   "metadata": {},
   "source": [
    "Natural Language Processing"
   ]
  },
  {
   "cell_type": "code",
   "execution_count": null,
   "id": "8c39d818-2d53-4a5d-b9df-6fe0ace984cf",
   "metadata": {},
   "outputs": [],
   "source": [
    "import nltk\n",
    "nltk.download('all')\n",
    "\n",
    "from nltk.tokenize import sent_tokenize, word_tokenize \n",
    "\n",
    "# imports and setup\n",
    "import numpy as np\n",
    "from sklearn.neighbors import NearestNeighbors\n",
    "from sklearn.neighbors import KNeighborsClassifier\n",
    "from sklearn import svm\n",
    "from sklearn.model_selection import cross_val_score\n",
    "from sklearn.model_selection import train_test_split\n",
    "\n",
    "import matplotlib.pyplot as plt\n",
    "%matplotlib inline\n",
    "plt.rcParams['figure.figsize'] = (15, 9)\n",
    "plt.style.use('ggplot')\n",
    "\n",
    "import pandas as pd\n",
    "from nltk.probability import FreqDist\n",
    "\n",
    "from nltk.corpus import stopwords"
   ]
  },
  {
   "cell_type": "code",
   "execution_count": null,
   "id": "9b80590d-0f57-42e3-96e9-4824fec4435e",
   "metadata": {},
   "outputs": [],
   "source": [
    "#inporting the dataset\n",
    "stories_mw = pd.read_csv('2018_Central_Park_Squirrel_Census_-_Stories.csv')"
   ]
  },
  {
   "cell_type": "code",
   "execution_count": null,
   "id": "04f89fcf-b077-43df-a04a-72fab2add526",
   "metadata": {
    "scrolled": true
   },
   "outputs": [],
   "source": [
    "stories_mw.head()"
   ]
  },
  {
   "cell_type": "code",
   "execution_count": null,
   "id": "3a3ae0ee-104e-463e-aa1d-cbcbcefabbdc",
   "metadata": {},
   "outputs": [],
   "source": [
    "#tokenizing and turning the data into a text data type readable by the nltk package\n",
    "stories_text_mw = pd.Series(stories_mw['Note Squirrel & Park Stories'])\n",
    "stories_string_mw = ' '.join(stories_text_mw)\n",
    "\n",
    "token_mw = word_tokenize(stories_string_mw)\n",
    "nltk_mw = nltk.Text(token_mw)"
   ]
  },
  {
   "cell_type": "code",
   "execution_count": null,
   "id": "40be494d-246b-4919-9e57-b7a1b44db9b6",
   "metadata": {},
   "outputs": [],
   "source": [
    "#looking at where \"squirrel\" shows up, just for funsies\n",
    "nltk_mw.concordance('squirrel')"
   ]
  },
  {
   "cell_type": "code",
   "execution_count": null,
   "id": "48b157a1-e21d-4eba-9d97-3a8eed2958fd",
   "metadata": {},
   "outputs": [],
   "source": [
    "#defining the stopwords\n",
    "stopwords = nltk.corpus.stopwords.words('english')\n",
    "\n",
    "#filtering out stopwords and symbols\n",
    "filtered_words = [w for w in nltk_mw if w.lower() not in stopwords and w.isalpha()]\n",
    "frequency_dist = FreqDist(filtered_words)\n",
    "\n",
    "# find 50 most common words\n",
    "print('\\n',frequency_dist.most_common(100))"
   ]
  },
  {
   "cell_type": "code",
   "execution_count": null,
   "id": "51a6e491-d66d-4c2f-ab58-3346f18a3bbb",
   "metadata": {},
   "outputs": [],
   "source": [
    "#looking at collocations\n",
    "nltk_mw.collocations()"
   ]
  },
  {
   "cell_type": "markdown",
   "id": "1b4b833b-4451-4771-a527-0ddf8d47c0a3",
   "metadata": {},
   "source": [
    "Here is where the real data wrangling starts"
   ]
  },
  {
   "cell_type": "code",
   "execution_count": null,
   "id": "437de5ba-bfe4-40aa-a90a-77037448038e",
   "metadata": {},
   "outputs": [],
   "source": [
    "#grouping the stories by hectare\n",
    "stories_group_mw = stories_mw.groupby('Hectare')\n",
    "stories_group_mw"
   ]
  },
  {
   "cell_type": "code",
   "execution_count": null,
   "id": "f96fa794-cb77-4a70-a5a4-880b55fd060f",
   "metadata": {},
   "outputs": [],
   "source": [
    "#making dataframes for each hectare\n",
    "dfs_mw = [stories_group_mw.get_group(x) for x in stories_group_mw.groups]\n"
   ]
  },
  {
   "cell_type": "code",
   "execution_count": null,
   "id": "fc9c2647-0156-43ef-ab63-62feb15ba753",
   "metadata": {},
   "outputs": [],
   "source": [
    "#making a list of the stories for each hectare\n",
    "hec_text_mw = []\n",
    "for i in range(len(dfs_mw)):\n",
    "    x = (dfs_mw[i]['Note Squirrel & Park Stories'])\n",
    "    hec_text_mw.append(x)"
   ]
  },
  {
   "cell_type": "code",
   "execution_count": null,
   "id": "a34b19a3-1796-493b-99f7-ead4f4b107b8",
   "metadata": {},
   "outputs": [],
   "source": [
    "#turning the stories into a single string to prepare for tokenization\n",
    "hec_string_mw = []\n",
    "for i in hec_text_mw:\n",
    "    y = pd.Series(i)\n",
    "    z = ' '.join(y)\n",
    "    hec_string_mw.append(z)\n",
    "\n",
    "hec_string_mw[3]"
   ]
  },
  {
   "cell_type": "code",
   "execution_count": null,
   "id": "50ed8ff7-f5d7-4a99-8a88-a7bde66cd3c6",
   "metadata": {},
   "outputs": [],
   "source": [
    "#tokenizing the words, and then converting them to a text data type for the nltk package\n",
    "hec_nltk_mw = []\n",
    "for i in hec_string_mw:\n",
    "    w = word_tokenize(i)\n",
    "    z = nltk.Text(w)\n",
    "    hec_nltk_mw.append(z)"
   ]
  },
  {
   "cell_type": "code",
   "execution_count": null,
   "id": "aca2e869-72ea-4fe8-aa6e-db50f5008314",
   "metadata": {
    "scrolled": true
   },
   "outputs": [],
   "source": [
    "#filtering out stop words and symbols from the data\n",
    "hec_filter_mw = []\n",
    "for i in hec_nltk_mw:\n",
    "    x = [w for w in i if w.lower() not in stopwords and w.isalpha()]\n",
    "    hec_filter_mw.append(x)\n",
    "\n",
    "hec_filter_mw"
   ]
  },
  {
   "cell_type": "code",
   "execution_count": null,
   "id": "ee0ecc61-8342-46ef-bb0a-5853976d0c7d",
   "metadata": {},
   "outputs": [],
   "source": [
    "#putting it in a dataframe, with the hectare names, to make it look nice\n",
    "nltk_stories_df = pd.DataFrame({'Hectare' : hectares_mw})\n",
    "nltk_stories_df['Words'] = hec_filter_mw\n",
    "nltk_stories_df"
   ]
  },
  {
   "cell_type": "markdown",
   "id": "960044ff-2e85-4e25-89bc-6d41979a6a21",
   "metadata": {},
   "source": [
    "The qualititaive data is now seperated by hectare, and in the format ready for analysis with the nlkt package :)"
   ]
  },
  {
   "cell_type": "code",
   "execution_count": null,
   "id": "821ee260-8a1d-4955-8ebb-b712353edab8",
   "metadata": {},
   "outputs": [],
   "source": [
    "#adding a change"
   ]
  }
 ],
 "metadata": {
  "kernelspec": {
   "display_name": "Python 3 (ipykernel)",
   "language": "python",
   "name": "python3"
  },
  "language_info": {
   "codemirror_mode": {
    "name": "ipython",
    "version": 3
   },
   "file_extension": ".py",
   "mimetype": "text/x-python",
   "name": "python",
   "nbconvert_exporter": "python",
   "pygments_lexer": "ipython3",
   "version": "3.12.5"
  }
 },
 "nbformat": 4,
 "nbformat_minor": 5
}
