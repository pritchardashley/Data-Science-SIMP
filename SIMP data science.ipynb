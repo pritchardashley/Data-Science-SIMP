{
 "cells": [
  {
   "cell_type": "markdown",
   "id": "21f65051-adbf-4e0a-86ba-7bf0cce74ff8",
   "metadata": {},
   "source": [
    "Team members: Maya Wheeler, Mikayla Comptom, Ashley Pritchard <br>\n",
    "Project Name: Squirrels In My Park (SIMP) <br>\n",
    "Repository Link: https://github.com/pritchardashley/Data-Science-SIMP "
   ]
  },
  {
   "cell_type": "markdown",
   "id": "5ddbfd20-9d98-43b6-9f01-5e6784467dec",
   "metadata": {},
   "source": [
    "### Group Information\n",
    "    \n",
    "Mikayla Compton, mikayla.compton@utah.edu, u1538218  <br> \n",
    "Ashley Pritchard u1256025@utah.edu, U1256025 <br>\n",
    "Maya Wheeler, maya.wheeler@hsc.utah.edu, u0999875"
   ]
  },
  {
   "cell_type": "markdown",
   "id": "12951085-5192-4247-9f49-6120c5093ec6",
   "metadata": {},
   "source": [
    "Topic: Understanding the correlation between physical squirrel attributes and location on behavior"
   ]
  },
  {
   "cell_type": "markdown",
   "id": "6a63e7ee-57d5-4347-8391-befbf00d299d",
   "metadata": {},
   "source": [
    "### Background and Motivation\n",
    "\n",
    "\n",
    "Almost everywhere we go, campus, a park, or even a big city, there will be squirrels. There are over 280 species of squirrels around the world (1) and come in a variety of colors: Black, brown, grey, red, and even containing purple, orange, and maroon (2) Research has found that squirrels have personalities and similar behaviors to humans (3). There has also been some research into the patterns of dominance in squirrels with older squirrels being more aggressive than younger squirrels and similar patterns for larger and smaller squirrels (4). There is a lot more to learn about squirrels and how and why they behave the ways that they do.\n",
    "\n",
    "\n",
    "A lot of our interest on this topic stems from our personal observations, specifically with the squirrels on the University of Utah campus. We as a group concluded that the level of human interactions, and food availability may have impacted their behaviors in certain situations. The squirrels on the University of Utah campus even have their own portion of the University of Utah website dedicated to them (University of Utah Website) as well as an annual “Squirrel Fest” held by the Natural History Museum (Squirrel Fest). Although the data set of squirrels that we will be using is not based in Utah, we feel as though we can learn a lot of information, through the application of skills learned in class, to gain a better understanding of the squirrels in Utah and around the world. \n"
   ]
  },
  {
   "cell_type": "markdown",
   "id": "bf654682-9f83-4db2-a333-395b676d0f66",
   "metadata": {},
   "source": [
    "### Project Objectives\n",
    "\n",
    "\n",
    "The primary question that we want to try to answer within our project is if there is a strong correlation between the physical characteristics and location of the squirrels in central park and their observed behaviors. The specific characteristics that we are focusing on are fur color, highlighted fur color, age, and location of the squirrels. In a part of this we want to see if the squirrels that show fear towards interactions with humans have different characteristics than those squirrels that do not. Our null hypothesis is that the physical characteristics have no effect on behavioral observations and our alternative hypothesis is that the physical characteristics have an effect on the observed behaviors. \t\n",
    "\n",
    "    \n",
    "Our learning objective is to utilize what we have learned in class to perform an accurate analysis of our data. Potential skills we hope to apply and understand more deeply include but are not limited to: R-squared, P-value, OLS Regression, descriptive statistics, categorical data, dummy values, data clean, and data visualization. Another thing we want to look into is creating a map of the squirrels in Central Park that shows our results for better visualization.\n"
   ]
  },
  {
   "cell_type": "markdown",
   "id": "ec7e3d3a-df93-4c8b-bafb-a9703d79a557",
   "metadata": {},
   "source": [
    "### Data Description and Acquisition\n",
    "\n",
    "\n",
    "Our data comes from the 2018 NYC Squirrel Census. This was a citizen science project that had volunteers observing squirrels in Central Park in New York City. The data is in two CSV files, as well as a word document with data definitions. The first file has our primary data, which includes 3022 observations. Each observation has 7 columns identifying the location, time, date, etc for the observation. There are 23 different columns with boolean or nominal values for different attributes of the observed squirrel, such as color (grey, cinnamon or black), what the squirrel was doing(eating, foraging, etc.), and behaviors it displayed, including vocalizations or interactions with humans. The second file is a CSV containing the latitude and longitude of the hectares that the park was broken into for the observations. \n",
    "\n",
    "\n",
    "Squirrel census data:\n",
    "https://data.cityofnewyork.us/Environment/2018-Central-Park-Squirrel-Census-Squirrel-Data/vfnx-vebw/about_data\n",
    "\n",
    "\n",
    "Hectare data:\n",
    "https://data.cityofnewyork.us/dataset/2018-Central-Park-Squirrel-Census-Hectare-Grid/qad5-y26n/about_data\n"
   ]
  },
  {
   "cell_type": "code",
   "execution_count": null,
   "id": "32394de8-206f-43bb-8ddc-94c6dd2826c1",
   "metadata": {},
   "outputs": [],
   "source": [
    "import numpy as np\n",
    "import pandas as pd\n",
    "import matplotlib.pyplot as plt\n",
    "import seaborn as sns\n",
    "from scipy.stats import chi2_contingency\n",
    "import folium\n",
    "import re\n",
    "from shapely.geometry import Point, Polygon"
   ]
  },
  {
   "cell_type": "code",
   "execution_count": null,
   "id": "e6af242c-ed95-4fbc-9468-36c4d129e99e",
   "metadata": {},
   "outputs": [],
   "source": [
    "nyc_squirrels=pd.read_csv('2018_Central_Park_Squirrel_Census_-_Squirrel_Data_20250304.csv')\n",
    "hectare = pd.read_csv('2018_Central_Park_Squirrel_Census_-_Hectare_Grid_20250304.csv')\n",
    "hectare_data = pd.read_csv('2018_Central_Park_Squirrel_Census_-_Hectare_Data_20250325.csv')"
   ]
  },
  {
   "cell_type": "markdown",
   "id": "720bcfe0-c6b5-47d7-b316-5854d61ea33a",
   "metadata": {},
   "source": [
    "### Ethical Considerations\n",
    "\n",
    "\n",
    "The group that would be the most affected by our analysis would be the squirrel community within central park. Depending on what we find in our analysis it could encourage people to interact more with squirrels. This, in turn, could lead to the endangerment of the squirrels or an increase of stress onto them. If people are influenced to interact with the squirrels it could also lead to the transmission of disease between the squirrels and humans. With a possible influx of people interacting with squirrels this would also mean a direct increase of people to central park. This could affect other aspects of the park outside of the squirrel population like people straying off paths or stepping on plants. \n"
   ]
  },
  {
   "cell_type": "markdown",
   "id": "4c8ca383-1e0c-41c9-a898-0c5d1dabb397",
   "metadata": {},
   "source": [
    "### Data Cleaning and Processing"
   ]
  },
  {
   "cell_type": "markdown",
   "id": "e592357f-7c1e-4c3f-88f3-1a75d9f30b8a",
   "metadata": {},
   "source": [
    "The census data was fairly complete- there are not many missing values, and the variables with the most missing values are not ones we intend to use. DID WE DO ANYTHING TO FILL IN OTHER MISSING VALUES?"
   ]
  },
  {
   "cell_type": "code",
   "execution_count": null,
   "id": "e2f08c6e-eb00-4078-a800-693565570695",
   "metadata": {},
   "outputs": [],
   "source": [
    "#missingness\n",
    "plt.figure(figsize=(8,6))\n",
    "sns.heatmap(nyc_squirrels.isnull(), cbar=False, cmap='viridis')\n",
    "plt.title('Missing Values Heatmap')\n",
    "#plt.savefig('Missing Squirrel Data', dpi=300)\n",
    "plt.show()"
   ]
  },
  {
   "cell_type": "code",
   "execution_count": null,
   "id": "e0242130-3f53-4303-bdb6-223669633b11",
   "metadata": {},
   "outputs": [],
   "source": [
    "#check amount of missing data in each column \n",
    "missing_data = nyc_squirrels.isna().sum()\n",
    "print(missing_data)\n",
    "\n",
    "print(\"Total squirrels in dataset: \", len(nyc_squirrels))\n",
    "\n",
    "#drop unneded columns \n",
    "drop_columns = ['Color notes', 'Specific Location', 'Other Activities', 'Other Interactions', 'Highlight Fur Color']\n",
    "clean_squirrels = nyc_squirrels.drop(columns = drop_columns)\n",
    "clean_squirrels = clean_squirrels.dropna()\n",
    "missing_data_ap = clean_squirrels.isna().sum()\n",
    "print(missing_data)\n",
    "clean_squirrels"
   ]
  },
  {
   "cell_type": "markdown",
   "id": "51887c1e-559f-4d1f-824c-887dfef9db0d",
   "metadata": {},
   "source": [
    "The bulk of the cleaning for this dataset was in the hectare data. The hectare dataset listed the latitude and longitude in a single string with extensive formatting, so they needed to be extracted, using a regular expression, and split into seperate columns."
   ]
  },
  {
   "cell_type": "code",
   "execution_count": null,
   "id": "dd7b3a49-1b53-470c-8c5b-7bf2a9149d15",
   "metadata": {},
   "outputs": [],
   "source": [
    "# Extract coordinate pairs using regex\n",
    "def extract_coords(wkt):\n",
    "    # Remove the leading \"MULTIPOLYGON (((\" and trailing \")))\"\n",
    "    cleaned = re.sub(r'^MULTIPOLYGON\\s+\\(\\(\\(|\\)\\)\\)$', '', wkt)\n",
    "    # Split into individual coordinate pairs\n",
    "    coord_pairs = cleaned.split(', ')\n",
    "    # Split each pair into lon and lat\n",
    "    coords = [coord.split() for coord in coord_pairs]\n",
    "    return coords\n",
    "\n",
    "# Apply extraction\n",
    "hectare['coords'] = hectare['the_geom'].apply(extract_coords)\n",
    "\n",
    "# Convert coordinate lists to individual columns\n",
    "# Flatten coordinates into new DataFrame columns\n",
    "coord_df = hectare['coords'].apply(lambda x: pd.Series([float(num) for pair in x for num in pair]))\n",
    "\n",
    "# Rename the columns as lon_1, lat_1, lon_2, lat_2, ...\n",
    "coord_df.columns = [f\"{'lon' if i % 2 == 0 else 'lat'}_{i//2 + 1}\" for i in coord_df.columns]\n",
    "\n",
    "# Concatenate with original DataFrame\n",
    "hectare_final = pd.concat([hectare.drop(columns='coords'), coord_df], axis=1)"
   ]
  },
  {
   "cell_type": "markdown",
   "id": "db79f285-5117-4011-af7a-8d8cede0620e",
   "metadata": {},
   "source": [
    "The squirrel data also used a different labeling system to identify hectares than the hectare data sets, so the two labeling systems had to be unified. This was achived by taking the location of one squirrel reported in each hecatre in the squirrel dataset, and finding which hectare in the hecatre dataset it's location fell within. These labels were then paired, and the datasets joined on the corresponding hectare labels."
   ]
  },
  {
   "cell_type": "code",
   "execution_count": null,
   "id": "07670d16-4c64-4f6c-989e-19fcddf00863",
   "metadata": {},
   "outputs": [],
   "source": [
    "#saving the location of one squirrel identified in each hectare\n",
    "squirrel_hec_id = nyc_squirrels[['X','Y','Hectare']]\n",
    "squirrel_hec_id = squirrel_hec_id.sort_values(by = 'Hectare')\n",
    "squirrel_hec_id.drop_duplicates(subset=[\"Hectare\"], keep=\"first\", inplace=True)\n",
    "squirrel_hec_id.reset_index(drop=True, inplace=True)\n",
    "\n",
    "#making and naming the polygons with shapely\n",
    "hectares_shapely = []\n",
    "for i in range(len(hecatre_final)):\n",
    "    p = (Polygon([(hectare_final.iloc[i,7],hectare_final.iloc[i,6]),\n",
    "                  (hectare_final.iloc[i,9],hectare_final.iloc[i,8]),\n",
    "                  (hectare_final.iloc[i,11],hectare_final.iloc[i,10]),\n",
    "                  (hectare_final.iloc[i,13],hectare_final.iloc[i,12])]),\n",
    "                 f'{hectare_final.iloc[i,1]}')\n",
    "    hectares_shapely.append(p)\n",
    "\n",
    "#finding which hectare each squirrel point belongs in\n",
    "hectare_assign = []\n",
    "for i in range(len(squirrel_hec_id)):\n",
    "    p = Point(squirrel_hec_id.iloc[i,1],squirrel_hec_id.iloc[i,0])\n",
    "    for s in hectares_shapely:\n",
    "        if s[0].contains(p) == True:\n",
    "            h = (([squirrel_hec_id.iloc[i,2],s[1]]))\n",
    "            hectare_assign.append(h)\n",
    "     \n",
    "hectare_assign = pd.DataFrame(hectare_assign, columns = ['Hectare', 'id'])\n",
    "hectare_assign['id'] = hectare_assign['id'].astype('int64')\n",
    "\n",
    "#joinging the squirrels data with the hectare id number\n",
    "nyc_squirrels = nyc_squirrels.merge(hectare_assign, how='left', on='Hectare')"
   ]
  },
  {
   "cell_type": "markdown",
   "id": "70b24e03-96ed-4354-bb60-0a74b81ad89a",
   "metadata": {},
   "source": [
    "Finally, we wanted a way to catagorize the squirrels as having displayed a behavior associated with fear or not. There are several behavior columns that correlate to fear, so we created an additional column to aggregate these behaviors."
   ]
  },
  {
   "cell_type": "code",
   "execution_count": null,
   "id": "40d75720-253c-46e8-a044-39a40b5d11d9",
   "metadata": {},
   "outputs": [],
   "source": [
    "#Dispays of fear\n",
    "fear_columns_ap = ['Quaas', 'Moans', 'Tail flags', 'Runs from']\n",
    "fear_ap = nyc_squirrels[fear_columns_ap].apply(pd.Series.value_counts)\n",
    "print(fear_ap)\n",
    "\n",
    "#add a new column where it is marked true if it showed at least one fear trait\n",
    "nyc_squirrels[\"showed_fear_ap\"] = nyc_squirrels[fear_columns_ap].applymap(\n",
    "    lambda x: str(x).strip().lower() in [\"yes\", \"true\", \"1\"]\n",
    ").any(axis=1)"
   ]
  },
  {
   "cell_type": "markdown",
   "id": "1a23a5c6-def4-494b-b7cb-950785af51f8",
   "metadata": {},
   "source": [
    "### Exploratory Analysis\n",
    "\n",
    "\n",
    "With the data being nominal we plan to use bar charts to get a sense of the general distribution of our data. Working with geographical data is new for us, so we are open to different methods, but based on our initial research we are going to start with the folium library in Python to map up the distribution of observations\n"
   ]
  },
  {
   "cell_type": "markdown",
   "id": "91252f01-3eaf-4423-9d00-38217e039f3c",
   "metadata": {},
   "source": [
    "### Analysis Methodology\n",
    "\n",
    "\n",
    "We are planning to test for the correlation (and strength of that correlation) between physical traits and behaviors, using the chi squared test of independence and Carmer’s V test. We will also test the correlation between the location in the park, and squirrel behavior, which we will analyze with an ANOVA test.\n"
   ]
  },
  {
   "cell_type": "markdown",
   "id": "1219b410-5191-4600-9366-78a5d5f27d44",
   "metadata": {},
   "source": [
    "### Project Schedule\n",
    "\n",
    " Important Project Dates:\n",
    "\n",
    "- **Feb 11** – Meet with group  \n",
    "  Decide on project topic\n",
    "\n",
    "- **Feb 21** – Announce Team/Title\n",
    "\n",
    "- **Feb 25** – Meet with group  \n",
    "  Split up proposal tasks  \n",
    "  - Ashley = Intro/background and schedule  \n",
    "  - Maya = Data cleaning and processing and data description?  \n",
    "  - Mikayla = Project objectives and Ethical considerations  \n",
    "  - Group = Anything else that I don’t remember\n",
    "\n",
    "- **March 4** – Meet with group  \n",
    "  Review proposal  \n",
    "  Complete and revisions decided upon  \n",
    "  Figure out how we will all work with the data (Github repo? Emailing files?)  \n",
    "  How often do we want to meet? Days/time that work best?\n",
    "\n",
    "- **March 7** – Project Proposal  \n",
    "  Ideally submit early\n",
    "\n",
    "- **March 11** – Meet with group  \n",
    "  Clean data  \n",
    "  [Zoom Link](https://utah.zoom.us/j/96194506954) Passcode: simp\n",
    "\n",
    "- **March 18** – Meet with group  \n",
    "  Initial analysis  \n",
    "  [Zoom Link](https://utah.zoom.us/j/96194506954) Passcode: simp\n",
    "\n",
    "- **March 20** – Peer Feedback (in-class)  \n",
    "  Zoom or Facetime Mikayla, if not make sure that detailed notes are taken!  \n",
    "  Schedule a group meeting to go over peer feedback as a team\n",
    "\n",
    "- **March 21** – Project Milestone Report  \n",
    "  Assignment on Canvas, seems similar to proposal but with additional updates  \n",
    "  Group Feedback Form - All submit  \n",
    "\n",
    "- **March 25** – Meet with group  \n",
    "  Final analysis  \n",
    "  [Zoom Link](https://utah.zoom.us/j/96194506954) Passcode: simp\n",
    "\n",
    "- **April 1** – Meet with group  \n",
    "  Visualizations  \n",
    "  [Zoom Link](https://utah.zoom.us/j/96194506954) Passcode: simp\n",
    "\n",
    "- **March 31 - April 4** – Professor/TA feedback (by appointment)  \n",
    "  Email about a week in advance to schedule an appointment if there is not a sign-up sheet provided  \n",
    "  Meet with group afterward to discuss feedback\n",
    "\n",
    "- **April 8** – Group meeting  \n",
    "  Film presentation  \n",
    "  [Zoom Link](https://utah.zoom.us/j/96194506954) Passcode: simp\n",
    "\n",
    "- **April 18** – Final Project\n",
    "\n",
    "- **April 22** – Project Awards\n"
   ]
  },
  {
   "cell_type": "code",
   "execution_count": null,
   "id": "aa6343e6-aa5c-45c4-8b73-b3c574a93098",
   "metadata": {},
   "outputs": [],
   "source": []
  }
 ],
 "metadata": {
  "kernelspec": {
   "display_name": "Python 3 (ipykernel)",
   "language": "python",
   "name": "python3"
  },
  "language_info": {
   "codemirror_mode": {
    "name": "ipython",
    "version": 3
   },
   "file_extension": ".py",
   "mimetype": "text/x-python",
   "name": "python",
   "nbconvert_exporter": "python",
   "pygments_lexer": "ipython3",
   "version": "3.13.0"
  }
 },
 "nbformat": 4,
 "nbformat_minor": 5
}
