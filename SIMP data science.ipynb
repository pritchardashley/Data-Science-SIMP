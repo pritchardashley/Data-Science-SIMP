{
 "cells": [
  {
   "cell_type": "markdown",
   "id": "21f65051-adbf-4e0a-86ba-7bf0cce74ff8",
   "metadata": {},
   "source": [
    "Team members: Maya Wheeler, Mikayla Comptom, Ashley Pritchard <br>\n",
    "Project Name: Squirrels In My Park (SIMP) <br>\n",
    "Repository Link: https://github.com/pritchardashley/Data-Science-SIMP "
   ]
  },
  {
   "cell_type": "markdown",
   "id": "5ddbfd20-9d98-43b6-9f01-5e6784467dec",
   "metadata": {},
   "source": [
    "### Group Information\n",
    "    \n",
    "Mikayla Compton, mikayla.compton@utah.edu, u1538218  <br> \n",
    "Ashley Pritchard u1256025@utah.edu, U1256025 <br>\n",
    "Maya Wheeler, maya.wheeler@hsc.utah.edu, u0999875"
   ]
  },
  {
   "cell_type": "markdown",
   "id": "12951085-5192-4247-9f49-6120c5093ec6",
   "metadata": {},
   "source": [
    "Topic: Understanding the correlation between physical squirrel attributes and location on behavior"
   ]
  },
  {
   "cell_type": "markdown",
   "id": "6a63e7ee-57d5-4347-8391-befbf00d299d",
   "metadata": {},
   "source": [
    "### Background and Motivation\n",
    "\n",
    "\n",
    "Almost everywhere we go, campus, a park, or even a big city, there will be squirrels. There are over 280 species of squirrels around the world (1) and come in a variety of colors: Black, brown, grey, red, and even containing purple, orange, and maroon (2) Research has found that squirrels have personalities and similar behaviors to humans (3). There has also been some research into the patterns of dominance in squirrels with older squirrels being more aggressive than younger squirrels and similar patterns for larger and smaller squirrels (4). There is a lot more to learn about squirrels and how and why they behave the ways that they do.\n",
    "\n",
    "\n",
    "A lot of our interest on this topic stems from our personal observations, specifically with the squirrels on the University of Utah campus. We as a group concluded that the level of human interactions, and food availability may have impacted their behaviors in certain situations. The squirrels on the University of Utah campus even have their own portion of the University of Utah website dedicated to them (University of Utah Website) as well as an annual “Squirrel Fest” held by the Natural History Museum (Squirrel Fest). Although the data set of squirrels that we will be using is not based in Utah, we feel as though we can learn a lot of information, through the application of skills learned in class, to gain a better understanding of the squirrels in Utah and around the world. \n"
   ]
  },
  {
   "cell_type": "markdown",
   "id": "bf654682-9f83-4db2-a333-395b676d0f66",
   "metadata": {},
   "source": [
    "### Project Objectives\n",
    "\n",
    "\n",
    "The primary question that we want to try to answer within our project is if there is a strong correlation between the physical characteristics and location of the squirrels in central park and their observed behaviors. The specific characteristics that we are focusing on are fur color, highlighted fur color, age, and location of the squirrels. In a part of this we want to see if the squirrels that show fear towards interactions with humans have different characteristics than those squirrels that do not. Our null hypothesis is that the physical characteristics have no effect on behavioral observations and our alternative hypothesis is that the physical characteristics have an effect on the observed behaviors. \t\n",
    "\n",
    "    \n",
    "Our learning objective is to utilize what we have learned in class to perform an accurate analysis of our data. Potential skills we hope to apply and understand more deeply include but are not limited to: R-squared, P-value, OLS Regression, descriptive statistics, categorical data, dummy values, data clean, and data visualization. Another thing we want to look into is creating a map of the squirrels in Central Park that shows our results for better visualization. Depending on time we may explore KMeans clustering for fur color and location, as well as using machine learning to predict squirrel behaviors.\n"
   ]
  },
  {
   "cell_type": "markdown",
   "id": "ec7e3d3a-df93-4c8b-bafb-a9703d79a557",
   "metadata": {},
   "source": [
    "### Data Description and Acquisition\n",
    "\n",
    "\n",
    "Our data comes from the 2018 NYC Squirrel Census. This was a citizen science project that had volunteers observing squirrels in Central Park in New York City. The data is in two CSV files, as well as a word document with data definitions. The first file has our primary data, which includes 3022 observations. Each observation has 7 columns identifying the location, time, date, etc for the observation. There are 23 different columns with boolean or nominal values for different attributes of the observed squirrel, such as color (grey, cinnamon or black), what the squirrel was doing(eating, foraging, etc.), and behaviors it displayed, including vocalizations or interactions with humans. The second file is a CSV containing the latitude and longitude of the hectares that the park was broken into for the observations. Both of these datasets are very complete- with the majority of the missing data being under “other” qualitative observations.\n",
    "\n",
    "\n",
    "Squirrel census data:\n",
    "https://data.cityofnewyork.us/Environment/2018-Central-Park-Squirrel-Census-Squirrel-Data/vfnx-vebw/about_data\n",
    "\n",
    "\n",
    "Hectare data:\n",
    "https://data.cityofnewyork.us/dataset/2018-Central-Park-Squirrel-Census-Hectare-Grid/qad5-y26n/about_data\n"
   ]
  },
  {
   "cell_type": "markdown",
   "id": "720bcfe0-c6b5-47d7-b316-5854d61ea33a",
   "metadata": {},
   "source": [
    "### Ethical Considerations\n",
    "\n",
    "\n",
    "The group that would be the most affected by our analysis would be the squirrel community within central park. Depending on what we find in our analysis it could encourage people to interact more with squirrels. This, in turn, could lead to the endangerment of the squirrels or an increase of stress onto them. If people are influenced to interact with the squirrels it could also lead to the transmission of disease between the squirrels and humans. With a possible influx of people interacting with squirrels this would also mean a direct increase of people to central park. This could affect other aspects of the park outside of the squirrel population like people straying off paths or stepping on plants. \n"
   ]
  },
  {
   "cell_type": "markdown",
   "id": "4c8ca383-1e0c-41c9-a898-0c5d1dabb397",
   "metadata": {},
   "source": [
    "### Data Cleaning and Processing\n",
    "\n",
    "\n",
    "The census data is fairly clean, so we are not expecting substantial clean up there. The biggest piece of processing that we are expecting will be joining the census data to the hectare data and making sure the location data in the census table aligns with the data in the hectare table.\n"
   ]
  },
  {
   "cell_type": "markdown",
   "id": "1a23a5c6-def4-494b-b7cb-950785af51f8",
   "metadata": {},
   "source": [
    "### Exploratory Analysis\n",
    "\n",
    "\n",
    "With the data being nominal we plan to use bar charts to get a sense of the general distribution of our data. Working with geographical data is new for us, so we are open to different methods, but based on our initial research we are going to start with the folium library in Python to map up the distribution of observations\n"
   ]
  },
  {
   "cell_type": "markdown",
   "id": "91252f01-3eaf-4423-9d00-38217e039f3c",
   "metadata": {},
   "source": [
    "### Analysis Methodology\n",
    "\n",
    "\n",
    "We are planning to test for the correlation (and strength of that correlation) between physical traits and behaviors, using the chi squared test of independence and Carmer’s V test. We will also test the correlation between the location in the park, and squirrel behavior, which we will analyze with an ANOVA test.\n"
   ]
  },
  {
   "cell_type": "markdown",
   "id": "1219b410-5191-4600-9366-78a5d5f27d44",
   "metadata": {},
   "source": [
    "### Project Schedule\n",
    "\n",
    " Important Project Dates:\n",
    "\n",
    "- **Feb 11** – Meet with group  \n",
    "  Decide on project topic\n",
    "\n",
    "- **Feb 21** – Announce Team/Title\n",
    "\n",
    "- **Feb 25** – Meet with group  \n",
    "  Split up proposal tasks  \n",
    "  - Ashley = Intro/background and schedule  \n",
    "  - Maya = Data cleaning and processing and data description?  \n",
    "  - Mikayla = Project objectives and Ethical considerations  \n",
    "  - Group = Anything else that I don’t remember\n",
    "\n",
    "- **March 4** – Meet with group  \n",
    "  Review proposal  \n",
    "  Complete and revisions decided upon  \n",
    "  Figure out how we will all work with the data (Github repo? Emailing files?)  \n",
    "  How often do we want to meet? Days/time that work best?\n",
    "\n",
    "- **March 7** – Project Proposal  \n",
    "  Ideally submit early\n",
    "\n",
    "- **March 11** – Meet with group  \n",
    "  Clean data  \n",
    "  [Zoom Link](https://utah.zoom.us/j/96194506954) Passcode: simp\n",
    "\n",
    "- **March 18** – Meet with group  \n",
    "  Initial analysis  \n",
    "  [Zoom Link](https://utah.zoom.us/j/96194506954) Passcode: simp\n",
    "\n",
    "- **March 20** – Peer Feedback (in-class)  \n",
    "  Zoom or Facetime Mikayla, if not make sure that detailed notes are taken!  \n",
    "  Schedule a group meeting to go over peer feedback as a team\n",
    "\n",
    "- **March 21** – Project Milestone Report  \n",
    "  Assignment on Canvas, seems similar to proposal but with additional updates  \n",
    "  Group Feedback Form - All submit  \n",
    "\n",
    "- **March 25** – Meet with group  \n",
    "  Final analysis  \n",
    "  [Zoom Link](https://utah.zoom.us/j/96194506954) Passcode: simp\n",
    "\n",
    "- **April 1** – Meet with group  \n",
    "  Visualizations  \n",
    "  [Zoom Link](https://utah.zoom.us/j/96194506954) Passcode: simp\n",
    "\n",
    "- **March 31 - April 4** – Professor/TA feedback (by appointment)  \n",
    "  Email about a week in advance to schedule an appointment if there is not a sign-up sheet provided  \n",
    "  Meet with group afterward to discuss feedback\n",
    "\n",
    "- **April 8** – Group meeting  \n",
    "  Film presentation  \n",
    "  [Zoom Link](https://utah.zoom.us/j/96194506954) Passcode: simp\n",
    "\n",
    "- **April 18** – Final Project\n",
    "\n",
    "- **April 22** – Project Awards\n"
   ]
  },
  {
   "cell_type": "code",
   "execution_count": null,
   "id": "aa6343e6-aa5c-45c4-8b73-b3c574a93098",
   "metadata": {},
   "outputs": [],
   "source": []
  }
 ],
 "metadata": {
  "kernelspec": {
   "display_name": "Python 3 (ipykernel)",
   "language": "python",
   "name": "python3"
  },
  "language_info": {
   "codemirror_mode": {
    "name": "ipython",
    "version": 3
   },
   "file_extension": ".py",
   "mimetype": "text/x-python",
   "name": "python",
   "nbconvert_exporter": "python",
   "pygments_lexer": "ipython3",
   "version": "3.12.5"
  }
 },
 "nbformat": 4,
 "nbformat_minor": 5
}
